{
  "cells": [
    {
      "cell_type": "markdown",
      "metadata": {
        "id": "view-in-github",
        "colab_type": "text"
      },
      "source": [
        "<a href=\"https://colab.research.google.com/github/marieedmoncera/58010-DSAA/blob/main/Prelim%20Exam.ipynb\" target=\"_parent\"><img src=\"https://colab.research.google.com/assets/colab-badge.svg\" alt=\"Open In Colab\"/></a>"
      ]
    },
    {
      "cell_type": "code",
      "source": [
        "scores = [26, 49, 98, 87, 62, 75]\n",
        "\n",
        "totalscore = sum(scores)\n",
        "\n",
        "print(\"Total Score:\", totalscore)"
      ],
      "metadata": {
        "id": "YrmGTasAWtbB",
        "outputId": "e1f85e73-012d-4da4-b208-ef5f71f4ebd4",
        "colab": {
          "base_uri": "https://localhost:8080/"
        }
      },
      "execution_count": 10,
      "outputs": [
        {
          "output_type": "stream",
          "name": "stdout",
          "text": [
            "Total Score: 397\n"
          ]
        }
      ]
    },
    {
      "cell_type": "code",
      "source": [
        "\n",
        "scores = [26, 49, 98, 87, 62, 75]\n",
        "\n",
        "scores.sort()\n",
        "\n",
        "print(\"Ascending Order:\", scores)\n",
        "\n"
      ],
      "metadata": {
        "id": "56Q2_CakXIEe",
        "outputId": "5b6b3e35-e1a3-4804-fc7d-6959136a0251",
        "colab": {
          "base_uri": "https://localhost:8080/"
        }
      },
      "execution_count": 9,
      "outputs": [
        {
          "output_type": "stream",
          "name": "stdout",
          "text": [
            "Ascending Order: [26, 49, 62, 75, 87, 98]\n"
          ]
        }
      ]
    }
  ],
  "metadata": {
    "colab": {
      "name": "Welcome To Colaboratory",
      "toc_visible": true,
      "provenance": [],
      "include_colab_link": true
    },
    "kernelspec": {
      "display_name": "Python 3",
      "name": "python3"
    }
  },
  "nbformat": 4,
  "nbformat_minor": 0
}