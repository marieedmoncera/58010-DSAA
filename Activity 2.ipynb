{
  "nbformat": 4,
  "nbformat_minor": 0,
  "metadata": {
    "colab": {
      "provenance": [],
      "authorship_tag": "ABX9TyOECzW27Rc1ufIjZPT2ZPwU",
      "include_colab_link": true
    },
    "kernelspec": {
      "name": "python3",
      "display_name": "Python 3"
    },
    "language_info": {
      "name": "python"
    }
  },
  "cells": [
    {
      "cell_type": "markdown",
      "metadata": {
        "id": "view-in-github",
        "colab_type": "text"
      },
      "source": [
        "<a href=\"https://colab.research.google.com/github/marieedmoncera/58010-DSAA/blob/main/Activity%202.ipynb\" target=\"_parent\"><img src=\"https://colab.research.google.com/assets/colab-badge.svg\" alt=\"Open In Colab\"/></a>"
      ]
    },
    {
      "cell_type": "code",
      "source": [
        "class Node:\n",
        "  def __init__(self, key):\n",
        "    self.key = key\n",
        "    self.next = None\n",
        "\n",
        "class LinkedList:\n",
        "  def __init__(self):\n",
        "    self.head = None\n",
        "\n",
        "  def push(self, keykey):\n",
        "    next_node = Node(keykey)\n",
        "    next_node.next = self.head\n",
        "    self.head = next_node\n",
        "\n",
        "llist = LinkedList()\n",
        "llist.push(2)\n",
        "llist.push(3)\n",
        "llist.push(4)\n",
        "llist.push(5)\n",
        "llist.push(7)\n",
        "llist.push(9)\n",
        "llist.push(11)\n",
        "llist.push(12)\n",
        "llist.push(13)\n",
        "llist.push(15)\n",
        "llist.push(17)\n",
        "llist.push(18)\n",
        "llist.push(19)\n",
        "prime = llist.head\n",
        "List = []\n",
        "while (prime):\n",
        "  List.append(prime.key)\n",
        "  prime = prime.next\n",
        "for x in List:\n",
        "  if x % 2 == 1:\n",
        "    print (x)\n",
        ""
      ],
      "metadata": {
        "colab": {
          "base_uri": "https://localhost:8080/"
        },
        "id": "k7kCrP-ZFIDU",
        "outputId": "524ff17d-1c5e-4916-af32-8cd643e28b74"
      },
      "execution_count": 41,
      "outputs": [
        {
          "output_type": "stream",
          "name": "stdout",
          "text": [
            "19\n",
            "17\n",
            "15\n",
            "13\n",
            "11\n",
            "9\n",
            "7\n",
            "5\n",
            "3\n"
          ]
        }
      ]
    }
  ]
}