{
  "cells": [
    {
      "cell_type": "markdown",
      "metadata": {
        "id": "view-in-github",
        "colab_type": "text"
      },
      "source": [
        "<a href=\"https://colab.research.google.com/github/marieedmoncera/58010-DSAA/blob/main/Array%20Examples%20(Insert%20and%20LL).ipynb\" target=\"_parent\"><img src=\"https://colab.research.google.com/assets/colab-badge.svg\" alt=\"Open In Colab\"/></a>"
      ]
    },
    {
      "cell_type": "code",
      "source": [
        " import array\n",
        " array.typecodes\n",
        " a = array.array('i', [1,2,3,4,5,6]) #initializes array a\n",
        " b = array.array('f', [1.5,2.5,3.5,4.5,5.5,6.5])\n",
        " a.typecode #getting a typecode\n",
        " b.typecode #getting b typecode"
      ],
      "metadata": {
        "colab": {
          "base_uri": "https://localhost:8080/",
          "height": 35
        },
        "id": "VhHiLA1aAuKg",
        "outputId": "075cb7b4-3d91-414a-9756-2e8face0b711"
      },
      "execution_count": 3,
      "outputs": [
        {
          "output_type": "execute_result",
          "data": {
            "text/plain": [
              "'f'"
            ],
            "application/vnd.google.colaboratory.intrinsic+json": {
              "type": "string"
            }
          },
          "metadata": {},
          "execution_count": 3
        }
      ]
    },
    {
      "cell_type": "code",
      "source": [
        "from array import array #importing array from array module\n",
        "a = array ('i',[4,5,6,7]) #intializing array\n",
        "a.insert(1,2) #inserting element\n",
        "print(a)\n",
        "array('i',[4,5,6,7])\n",
        "a.insert(-1,0)\n",
        "print(a)\n",
        "a.insert(10,-1)\n",
        "print(a)\n",
        "array('i',[4,5,6,7])"
      ],
      "metadata": {
        "colab": {
          "base_uri": "https://localhost:8080/"
        },
        "id": "ekqVCVA0DKBt",
        "outputId": "bf47f5a5-1238-4203-de52-2b3763a41166"
      },
      "execution_count": 4,
      "outputs": [
        {
          "output_type": "stream",
          "name": "stdout",
          "text": [
            "array('i', [4, 2, 5, 6, 7])\n",
            "array('i', [4, 2, 5, 6, 0, 7])\n",
            "array('i', [4, 2, 5, 6, 0, 7, -1])\n"
          ]
        },
        {
          "output_type": "execute_result",
          "data": {
            "text/plain": [
              "array('i', [4, 5, 6, 7])"
            ]
          },
          "metadata": {},
          "execution_count": 4
        }
      ]
    },
    {
      "cell_type": "code",
      "source": [
        "class Node:\n",
        "  def __init__(self,data):\n",
        "    self.data = data\n",
        "    self.next = None\n",
        "\n",
        "class LinkedList:\n",
        "  def __init__(self):\n",
        "    self.head = None\n"
      ],
      "metadata": {
        "id": "iHMDe1OkEWGF"
      },
      "execution_count": 9,
      "outputs": []
    },
    {
      "cell_type": "code",
      "source": [
        "class Node:\n",
        "  def__init__(self,data):\n",
        "    self.data = data\n",
        "    self.next = None\n",
        "\n",
        "class LinkedList:\n",
        "  def __init__(self):\n",
        "    self.head = Nome\n",
        "  if __name__=='__main__':\n",
        "    llist = LinkedList()\n",
        "    llist.head = Node(1)\n",
        "    second = Node(2)\n",
        "    third = Node(3)\n",
        "\n",
        "\n",
        "  print(llist.head.data)\n",
        "\n",
        "  def PrintList(self):\n",
        "    temp = self.head\n",
        "    while (temp):\n",
        "      print(temp.data)\n",
        "      display.PrintList()\n",
        "\n",
        "      #temp = temp.next\n",
        "\n",
        "      #print(llist.Printlist)\n",
        "\n",
        "      llist.head.next = second; #Link 1st Node with second\n",
        "      second.next = third #Link the second with the third node"
      ],
      "metadata": {
        "id": "kwHUwjJT173h"
      },
      "execution_count": null,
      "outputs": []
    }
  ],
  "metadata": {
    "colab": {
      "name": "Welcome To Colaboratory",
      "provenance": [],
      "include_colab_link": true
    },
    "kernelspec": {
      "display_name": "Python 3",
      "name": "python3"
    }
  },
  "nbformat": 4,
  "nbformat_minor": 0
}