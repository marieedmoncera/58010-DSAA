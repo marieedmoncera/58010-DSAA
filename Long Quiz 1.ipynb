{
  "nbformat": 4,
  "nbformat_minor": 0,
  "metadata": {
    "colab": {
      "provenance": [],
      "authorship_tag": "ABX9TyNYNvyrG3y0KiGW0fj9W8H7",
      "include_colab_link": true
    },
    "kernelspec": {
      "name": "python3",
      "display_name": "Python 3"
    },
    "language_info": {
      "name": "python"
    }
  },
  "cells": [
    {
      "cell_type": "markdown",
      "metadata": {
        "id": "view-in-github",
        "colab_type": "text"
      },
      "source": [
        "<a href=\"https://colab.research.google.com/github/marieedmoncera/58010-DSAA/blob/main/Long%20Quiz%201.ipynb\" target=\"_parent\"><img src=\"https://colab.research.google.com/assets/colab-badge.svg\" alt=\"Open In Colab\"/></a>"
      ]
    },
    {
      "cell_type": "code",
      "execution_count": 1,
      "metadata": {
        "colab": {
          "base_uri": "https://localhost:8080/"
        },
        "id": "WifFgHmhSvNi",
        "outputId": "653dc2c8-0a54-4537-ff2a-5fbfa92b864d"
      },
      "outputs": [
        {
          "output_type": "stream",
          "name": "stdout",
          "text": [
            "['A', 'R', 'E', 'C', 'N', 'O', 'M', 'D', 'E', 'E', 'I', 'R', 'A', 'M']\n"
          ]
        }
      ],
      "source": [
        "name = []\n",
        "\n",
        "name.append('M')\n",
        "name.append('A')\n",
        "name.append('R')\n",
        "name.append('I')\n",
        "name.append('E')\n",
        "name.append('E')\n",
        "name.append('D')\n",
        "name.append('M')\n",
        "name.append('O')\n",
        "name.append('N')\n",
        "name.append('C')\n",
        "name.append('E')\n",
        "name.append('R')\n",
        "name.append('A')\n",
        "\n",
        "name.reverse()\n",
        "print(name)"
      ]
    },
    {
      "cell_type": "code",
      "source": [
        "name = \"MARIE ED MONCERA\"\n",
        "characters = []\n",
        "for char in name:\n",
        "    characters.append(char)\n",
        "characters.reverse()\n",
        "print(characters)"
      ],
      "metadata": {
        "colab": {
          "base_uri": "https://localhost:8080/"
        },
        "id": "Di2W9QlYSwH7",
        "outputId": "2fa68b5c-b524-4759-98f4-3f22b24101b8"
      },
      "execution_count": 2,
      "outputs": [
        {
          "output_type": "stream",
          "name": "stdout",
          "text": [
            "['A', 'R', 'E', 'C', 'N', 'O', 'M', ' ', 'D', 'E', ' ', 'E', 'I', 'R', 'A', 'M']\n"
          ]
        }
      ]
    },
    {
      "cell_type": "code",
      "source": [
        "def prime(number):\n",
        "    if number == 1:\n",
        "      print (f'{number} is a natural number')\n",
        "      return True\n",
        "    elif number == 2:\n",
        "        return True\n",
        "    elif number % 2 == 0:\n",
        "        return False\n",
        "    else:\n",
        "        for i in range(3, int(number**0.5) + 1, 2):\n",
        "            if number % i == 0:\n",
        "                return False\n",
        "        return True\n",
        "\n",
        "for num in range(1, 11):\n",
        "\n",
        "    if prime(num):\n",
        "        print(f\"{num} is a prime number\")\n",
        "    else:\n",
        "        print(f\"{num} is a composite number\")\n"
      ],
      "metadata": {
        "colab": {
          "base_uri": "https://localhost:8080/"
        },
        "id": "lWR2nwfISwL6",
        "outputId": "681200f2-ff53-4b50-d7b4-89054cbab96d"
      },
      "execution_count": 4,
      "outputs": [
        {
          "output_type": "stream",
          "name": "stdout",
          "text": [
            "1 is a natural number\n",
            "1 is a prime number\n",
            "2 is a prime number\n",
            "3 is a prime number\n",
            "4 is a composite number\n",
            "5 is a prime number\n",
            "6 is a composite number\n",
            "7 is a prime number\n",
            "8 is a composite number\n",
            "9 is a composite number\n",
            "10 is a composite number\n"
          ]
        }
      ]
    }
  ]
}