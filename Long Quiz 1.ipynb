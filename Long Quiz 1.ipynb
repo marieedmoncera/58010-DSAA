{
  "cells": [
    {
      "cell_type": "markdown",
      "metadata": {
        "id": "view-in-github",
        "colab_type": "text"
      },
      "source": [
        "<a href=\"https://colab.research.google.com/github/marieedmoncera/58010-DSAA/blob/main/Long%20Quiz%201.ipynb\" target=\"_parent\"><img src=\"https://colab.research.google.com/assets/colab-badge.svg\" alt=\"Open In Colab\"/></a>"
      ]
    },
    {
      "cell_type": "code",
      "source": [
        "name = []\n",
        "\n",
        "name.append('M')\n",
        "name.append('A')\n",
        "name.append('R')\n",
        "name.append('I')\n",
        "name.append('E')\n",
        "name.append('E')\n",
        "name.append('D')\n",
        "name.append('M')\n",
        "name.append('O')\n",
        "name.append('N')\n",
        "name.append('C')\n",
        "name.append('E')\n",
        "name.append('R')\n",
        "name.append('A')\n",
        "\n",
        "name.reverse()\n",
        "print(name)"
      ],
      "metadata": {
        "id": "Y8m8j5aKPIjT",
        "outputId": "3ca5f536-c80e-43ba-c571-01b91dc0e3b8",
        "colab": {
          "base_uri": "https://localhost:8080/"
        }
      },
      "execution_count": 16,
      "outputs": [
        {
          "output_type": "stream",
          "name": "stdout",
          "text": [
            "['A', 'R', 'E', 'C', 'N', 'O', 'M', 'D', 'E', 'E', 'I', 'R', 'A', 'M']\n"
          ]
        }
      ]
    },
    {
      "cell_type": "code",
      "source": [
        "\n",
        "name = \"MARIE ED MONCERA\"\n",
        "characters = []\n",
        "for char in name:\n",
        "    characters.append(char)\n",
        "characters.reverse()\n",
        "print(characters)"
      ],
      "metadata": {
        "id": "pEIDwsm0JFzD",
        "outputId": "be7e08e8-b167-43ef-ae09-4f2a60d991b6",
        "colab": {
          "base_uri": "https://localhost:8080/"
        }
      },
      "execution_count": 23,
      "outputs": [
        {
          "output_type": "stream",
          "name": "stdout",
          "text": [
            "['A', 'R', 'E', 'C', 'N', 'O', 'M', ' ', 'D', 'E', ' ', 'E', 'I', 'R', 'A', 'M']\n"
          ]
        }
      ]
    },
    {
      "cell_type": "code",
      "source": [
        "\n",
        "def prime(number):\n",
        "    if number == 1:\n",
        "      print (f'{number} is a natural number')\n",
        "      return True\n",
        "    elif number == 2:\n",
        "        return True\n",
        "    elif number % 2 == 0:\n",
        "        return False\n",
        "    else:\n",
        "        for i in range(3, int(number**0.5) + 1, 2):\n",
        "            if number % i == 0:\n",
        "                return False\n",
        "        return True\n",
        "\n",
        "for num in range(1, 11):\n",
        "\n",
        "    if prime(num):\n",
        "        print(f\"{num} is prime\")\n",
        "    else:\n",
        "        print(f\"{num} is composite\")\n"
      ],
      "metadata": {
        "id": "j13fcpL8MDMJ",
        "outputId": "7b41ad0f-83a6-48ca-97d1-9e5a119a7134",
        "colab": {
          "base_uri": "https://localhost:8080/"
        }
      },
      "execution_count": 30,
      "outputs": [
        {
          "output_type": "stream",
          "name": "stdout",
          "text": [
            "1 is a natural number\n",
            "1 is prime\n",
            "2 is prime\n",
            "3 is prime\n",
            "4 is composite\n",
            "5 is prime\n",
            "6 is composite\n",
            "7 is prime\n",
            "8 is composite\n",
            "9 is composite\n",
            "10 is composite\n"
          ]
        }
      ]
    }
  ],
  "metadata": {
    "colab": {
      "name": "Welcome To Colaboratory",
      "toc_visible": true,
      "provenance": [],
      "include_colab_link": true
    },
    "kernelspec": {
      "display_name": "Python 3",
      "name": "python3"
    }
  },
  "nbformat": 4,
  "nbformat_minor": 0
}