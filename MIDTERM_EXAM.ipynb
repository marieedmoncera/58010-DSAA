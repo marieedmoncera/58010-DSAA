{
  "nbformat": 4,
  "nbformat_minor": 0,
  "metadata": {
    "colab": {
      "provenance": [],
      "authorship_tag": "ABX9TyNHfWhbJ4s9DFs0Cf3KMVGi",
      "include_colab_link": true
    },
    "kernelspec": {
      "name": "python3",
      "display_name": "Python 3"
    },
    "language_info": {
      "name": "python"
    }
  },
  "cells": [
    {
      "cell_type": "markdown",
      "metadata": {
        "id": "view-in-github",
        "colab_type": "text"
      },
      "source": [
        "<a href=\"https://colab.research.google.com/github/marieedmoncera/58010-DSAA/blob/main/MIDTERM_EXAM.ipynb\" target=\"_parent\"><img src=\"https://colab.research.google.com/assets/colab-badge.svg\" alt=\"Open In Colab\"/></a>"
      ]
    },
    {
      "cell_type": "code",
      "execution_count": 16,
      "metadata": {
        "colab": {
          "base_uri": "https://localhost:8080/"
        },
        "id": "gwGUz0gGa1Tt",
        "outputId": "3c6060ce-828c-4b6b-bf8d-95763285ec25"
      },
      "outputs": [
        {
          "output_type": "stream",
          "name": "stdout",
          "text": [
            "[{'B', 'A'}, {'B', 'E'}, {'B', 'F'}, {'C', 'E'}, {'N', 'E'}, {'C', 'F'}, {'F', 'G'}, {'F', 'I'}, {'B', 'C'}, {'C', 'I'}, {'C', 'M'}, {'C', 'D'}, {'N', 'M'}, {'N', 'O'}, {'O', 'M'}, {'L', 'M'}, {'P', 'M'}, {'P', 'L'}, {'P', 'O'}, {'D', 'L'}, {'D', 'K'}, {'I', 'K'}, {'J', 'K'}, {'G', 'I'}, {'J', 'I'}, {'J', 'G'}]\n",
            "[{'B', 'A'}, {'B', 'E'}, {'B', 'F'}, {'C', 'E'}, {'N', 'E'}, {'C', 'F'}, {'F', 'G'}, {'F', 'I'}, {'B', 'C'}, {'C', 'I'}, {'C', 'M'}, {'C', 'D'}, {'N', 'M'}, {'N', 'O'}, {'O', 'M'}, {'L', 'M'}, {'P', 'M'}, {'P', 'L'}, {'P', 'O'}, {'D', 'L'}, {'D', 'K'}, {'I', 'K'}, {'J', 'K'}, {'G', 'I'}, {'J', 'I'}, {'J', 'G'}]\n"
          ]
        }
      ],
      "source": [
        "\n",
        "class graph:\n",
        "   def __init__(self,gdict=None):\n",
        "      if gdict is None:\n",
        "         gdict = {}\n",
        "      self.gdict = gdict\n",
        "\n",
        "   def edges(self):\n",
        "      return self.findedges()\n",
        "   def findedges(self):\n",
        "      edgename = []\n",
        "      for vrtx in self.gdict:\n",
        "         for nxtvrtx in self.gdict[vrtx]:\n",
        "            if {nxtvrtx, vrtx} not in edgename:\n",
        "               edgename.append({vrtx, nxtvrtx})\n",
        "      return edgename\n",
        "\n",
        "graph_elements = {\n",
        "   \"A\" : [\"B\"],\n",
        "   \"B\" : [\"A\", \"E\",\"F\"],\n",
        "   \"E\" : [\"B\", \"C\",\"N\"],\n",
        "   \"F\" : [\"B\",\"C\",\"G\",\"I\"],\n",
        "   \"C\" : [\"B\",\"E\",\"F\",\"I\",\"M\",\"D\"],\n",
        "   \"N\" : [\"E\",\"M\",\"O\"],\n",
        "   \"M\" : [\"C\",\"N\",\"O\",\"L\"],\n",
        "   \"P\" : [\"M\",\"L\",\"O\"],\n",
        "   \"O\" : [\"M\",\"N\",\"P\"],\n",
        "   \"L\" : [\"M\",\"D\",\"P\"],\n",
        "   \"D\" : [\"C\",\"L\",\"K\"],\n",
        "   \"K\" : [\"I\",\"D\",\"J\"],\n",
        "   \"I\" : [\"F\",\"C\",\"K\",\"G\",\"J\"],\n",
        "   \"G\" : [\"F\",\"I\",\"J\"],\n",
        "   \"J\" : [\"I\",\"K\",\"G\"],\n",
        "}\n",
        "g = graph(graph_elements)\n",
        "print(g.edges())\n",
        "\n",
        "\n",
        "\n",
        "class graph:\n",
        "   def __init__(self,gdict=None):\n",
        "      if gdict is None:\n",
        "         gdict = {}\n",
        "      self.gdict = gdict\n",
        "\n",
        "   def edges(self):\n",
        "      return self.findedges()\n",
        "\n",
        "   def findedges(self):\n",
        "      edgename = []\n",
        "      for vrtx in self.gdict:\n",
        "         for nxtvrtx in self.gdict[vrtx]:\n",
        "            if {nxtvrtx, vrtx} not in edgename:\n",
        "               edgename.append({vrtx, nxtvrtx})\n",
        "      return edgename\n",
        "\n",
        "graph_elements = {\n",
        "      \"A\" : [\"B\"],\n",
        "   \"B\" : [\"A\", \"E\",\"F\"],\n",
        "   \"E\" : [\"B\", \"C\",\"N\"],\n",
        "   \"F\" : [\"B\",\"C\",\"G\",\"I\"],\n",
        "   \"C\" : [\"B\",\"E\",\"F\",\"I\",\"M\",\"D\"],\n",
        "   \"N\" : [\"E\",\"M\",\"O\"],\n",
        "   \"M\" : [\"C\",\"N\",\"O\",\"L\"],\n",
        "   \"P\" : [\"M\",\"L\",\"O\"],\n",
        "   \"O\" : [\"M\",\"N\",\"P\"],\n",
        "   \"L\" : [\"M\",\"D\",\"P\"],\n",
        "   \"D\" : [\"C\",\"L\",\"K\"],\n",
        "   \"K\" : [\"I\",\"D\",\"J\"],\n",
        "   \"I\" : [\"F\",\"C\",\"K\",\"G\",\"J\"],\n",
        "   \"G\" : [\"F\",\"I\",\"J\"],\n",
        "   \"J\" : [\"I\",\"K\",\"G\"],\n",
        "\n",
        "}\n",
        "g = graph(graph_elements)\n",
        "print(g.edges())"
      ]
    }
  ]
}