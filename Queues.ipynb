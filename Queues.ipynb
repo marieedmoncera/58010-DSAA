{
  "nbformat": 4,
  "nbformat_minor": 0,
  "metadata": {
    "colab": {
      "provenance": [],
      "authorship_tag": "ABX9TyO1mxn9f5hI8q0Q9QPgXHUd",
      "include_colab_link": true
    },
    "kernelspec": {
      "name": "python3",
      "display_name": "Python 3"
    },
    "language_info": {
      "name": "python"
    }
  },
  "cells": [
    {
      "cell_type": "markdown",
      "metadata": {
        "id": "view-in-github",
        "colab_type": "text"
      },
      "source": [
        "<a href=\"https://colab.research.google.com/github/marieedmoncera/58010-DSAA/blob/main/Queues.ipynb\" target=\"_parent\"><img src=\"https://colab.research.google.com/assets/colab-badge.svg\" alt=\"Open In Colab\"/></a>"
      ]
    },
    {
      "cell_type": "code",
      "execution_count": 20,
      "metadata": {
        "colab": {
          "base_uri": "https://localhost:8080/"
        },
        "id": "XJa8P3cBK8J-",
        "outputId": "cd36ade0-6490-4b3f-98e0-c5b0a4718811"
      },
      "outputs": [
        {
          "output_type": "stream",
          "name": "stdout",
          "text": [
            "['A', 'B', 'C']\n",
            "['A', 'B']\n"
          ]
        }
      ],
      "source": [
        "queue=[]\n",
        "#Inserting element in the queue, enqueue\n",
        "queue.append('A')\n",
        "queue.append('B')\n",
        "queue.append('C')\n",
        "print (queue)\n",
        "\n",
        "#Removing element in the queue, dequeue\n",
        "queue.pop()\n",
        "print(queue)\n"
      ]
    }
  ]
}